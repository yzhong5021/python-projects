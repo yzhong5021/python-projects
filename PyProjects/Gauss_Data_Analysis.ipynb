{
 "cells": [
  {
   "cell_type": "code",
   "execution_count": 16,
   "id": "c2810209",
   "metadata": {},
   "outputs": [],
   "source": [
    "from statistics import mean\n",
    "import pickle\n",
    "import pandas\n",
    "data = pickle.load(open(\"gauss_data.p\",\"rb\"))"
   ]
  },
  {
   "cell_type": "code",
   "execution_count": 17,
   "id": "c1fa99b8",
   "metadata": {},
   "outputs": [
    {
     "name": "stdout",
     "output_type": "stream",
     "text": [
      "     dist_0     dist_1    dist_2     dist_3    dist_4      dist_5\n",
      "0  6.398750 -12.924829  3.818315  19.287197  4.330135 -100.341771\n",
      "1  4.675996 -12.375784  2.331401  19.632544 -1.439021  -90.225477\n",
      "2  5.627294 -11.822885  2.576670  19.239539  4.055282  -95.718027\n",
      "3  5.403728 -12.499533  3.164076  17.543545 -0.142891  -83.090755\n",
      "4  3.313659 -11.923530  3.960696  18.497255 -1.793503  -95.984501\n"
     ]
    }
   ],
   "source": [
    "print(data.head())"
   ]
  },
  {
   "cell_type": "code",
   "execution_count": 19,
   "id": "9fee5e69",
   "metadata": {},
   "outputs": [
    {
     "name": "stdout",
     "output_type": "stream",
     "text": [
      "-99.9546670256619\n"
     ]
    }
   ],
   "source": [
    "print(statistics.mean(data.dist_5))"
   ]
  },
  {
   "cell_type": "code",
   "execution_count": 27,
   "id": "3999ea66",
   "metadata": {},
   "outputs": [
    {
     "name": "stdout",
     "output_type": "stream",
     "text": [
      "0.9956790413330157\n",
      "0.9976851594443326\n",
      "0.9473418746191627\n",
      "3.720039074519146\n",
      "14.007807960718546\n",
      "103.2339725233648\n"
     ]
    }
   ],
   "source": [
    "for i in range(6):\n",
    "    print(statistics.variance(data[\"dist_\"+str(i)]))"
   ]
  },
  {
   "cell_type": "code",
   "execution_count": null,
   "id": "65e5fa3a",
   "metadata": {},
   "outputs": [],
   "source": []
  }
 ],
 "metadata": {
  "kernelspec": {
   "display_name": "Python 3 (ipykernel)",
   "language": "python",
   "name": "python3"
  },
  "language_info": {
   "codemirror_mode": {
    "name": "ipython",
    "version": 3
   },
   "file_extension": ".py",
   "mimetype": "text/x-python",
   "name": "python",
   "nbconvert_exporter": "python",
   "pygments_lexer": "ipython3",
   "version": "3.7.13"
  }
 },
 "nbformat": 4,
 "nbformat_minor": 5
}
